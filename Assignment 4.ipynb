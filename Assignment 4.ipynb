{
 "cells": [
  {
   "cell_type": "code",
   "execution_count": 1,
   "metadata": {},
   "outputs": [
    {
     "name": "stdout",
     "output_type": "stream",
     "text": [
      "{'first_name': 'Ali', 'last_name': 'Raza', 'age': 17, 'city': 'karachi'}\n"
     ]
    }
   ],
   "source": [
    "information={\n",
    "    \"first_name\":\"Ali\",\n",
    "    \"last_name\":\"Raza\",\n",
    "    \"age\": 17,\n",
    "    \"city\":\"karachi\"\n",
    "}\n",
    "\n",
    "print(information)\n",
    "\n",
    "\n",
    "\n"
   ]
  },
  {
   "cell_type": "code",
   "execution_count": 2,
   "metadata": {},
   "outputs": [
    {
     "name": "stdout",
     "output_type": "stream",
     "text": [
      "first_name\n",
      "last_name\n",
      "age\n",
      "city\n"
     ]
    }
   ],
   "source": [
    "for each_value in information.keys():\n",
    "    print(each_value)"
   ]
  },
  {
   "cell_type": "code",
   "execution_count": 3,
   "metadata": {},
   "outputs": [
    {
     "name": "stdout",
     "output_type": "stream",
     "text": [
      "{'first_name': 'Ali', 'last_name': 'Raza', 'age': 17, 'city': 'karachi', 'qualification': 'high academic level'}\n"
     ]
    }
   ],
   "source": [
    "information.update({\"qualification\" : \"high academic level\" })\n",
    "print(information)"
   ]
  },
  {
   "cell_type": "code",
   "execution_count": 4,
   "metadata": {},
   "outputs": [
    {
     "name": "stdout",
     "output_type": "stream",
     "text": [
      "{'first_name': 'Ali', 'last_name': 'Raza', 'age': 17, 'city': 'karachi'}\n"
     ]
    }
   ],
   "source": [
    "del information[\"qualification\"]\n",
    "print(information)"
   ]
  },
  {
   "cell_type": "code",
   "execution_count": 5,
   "metadata": {},
   "outputs": [
    {
     "name": "stdout",
     "output_type": "stream",
     "text": [
      "{'Islamabad': {'country': 'pakistan', 'population': 216565318, 'language': 'Urdu'}, 'Beijing': {'country': 'china', 'population': 1433783686, 'language': 'Chiness'}, 'Abu Dhabi': {'country': 'UAE', 'population': '9.77 million', 'language': 'Arabic'}}\n"
     ]
    }
   ],
   "source": [
    "information={\n",
    "   \"Islamabad\":{\n",
    "        \"country\":\"pakistan\",\n",
    "        \"population\":216565318,\n",
    "        \"language\":\"Urdu\",\n",
    "        \n",
    "    },\n",
    "    \"Beijing\":{\n",
    "        \"country\":\"china\",\n",
    "        \"population\":1433783686,\n",
    "        \"language\":\"Chiness\",\n",
    "    },\n",
    "    \"Abu Dhabi\":{\n",
    "        \"country\":\"UAE\",\n",
    "        \"population\":\"9.77 million\",\n",
    "        \"language\":\"Arabic\",\n",
    "        \n",
    "    },\n",
    "}\n",
    "print(information)"
   ]
  },
  {
   "cell_type": "code",
   "execution_count": 6,
   "metadata": {},
   "outputs": [
    {
     "name": "stdout",
     "output_type": "stream",
     "text": [
      "Enter the person age22\n",
      "The tickek is $15\n"
     ]
    }
   ],
   "source": [
    "\n",
    "age=int(input(\"Enter the person age\"))\n",
    "\n",
    "if age <= 2:\n",
    "    print(\"The ticket is free;\")\n",
    "elif age <=12 and age >=3:\n",
    "    print(\"The ticket is $10\")\n",
    "elif age > 12:\n",
    "    print(\"The tickek is $15\")"
   ]
  },
  {
   "cell_type": "code",
   "execution_count": 1,
   "metadata": {},
   "outputs": [
    {
     "name": "stdout",
     "output_type": "stream",
     "text": [
      "17\n",
      "Please enter your guess: 55\n",
      "Please enter your guess: 88\n",
      "Please enter your guess: 55\n",
      "Your guess is  high\n"
     ]
    }
   ],
   "source": [
    "import random\n",
    " \n",
    "hidden = random.randrange(1, 30)\n",
    "print(hidden)\n",
    " \n",
    "guess = int(input(\"Please enter your guess: \"))\n",
    "guess = int(input(\"Please enter your guess: \"))\n",
    "guess = int(input(\"Please enter your guess: \"))\n",
    " \n",
    "if guess == hidden:\n",
    "    print(\"you win\")\n",
    "elif guess < hidden:\n",
    "    print(\"Your guess is  low\")\n",
    "else:\n",
    "    print(\"Your guess is  high\")"
   ]
  },
  {
   "cell_type": "code",
   "execution_count": 1,
   "metadata": {},
   "outputs": [
    {
     "name": "stdout",
     "output_type": "stream",
     "text": [
      "My favorite books is Alice in Wonderland\n"
     ]
    }
   ],
   "source": [
    "def favorite_book():\n",
    "    title=\"My favorite books is Alice in Wonderland\"\n",
    "    print(title)\n",
    "    \n",
    "favorite_book()"
   ]
  },
  {
   "cell_type": "code",
   "execution_count": null,
   "metadata": {},
   "outputs": [],
   "source": []
  }
 ],
 "metadata": {
  "kernelspec": {
   "display_name": "Python 3",
   "language": "python",
   "name": "python3"
  },
  "language_info": {
   "codemirror_mode": {
    "name": "ipython",
    "version": 3
   },
   "file_extension": ".py",
   "mimetype": "text/x-python",
   "name": "python",
   "nbconvert_exporter": "python",
   "pygments_lexer": "ipython3",
   "version": "3.7.4"
  }
 },
 "nbformat": 4,
 "nbformat_minor": 2
}
