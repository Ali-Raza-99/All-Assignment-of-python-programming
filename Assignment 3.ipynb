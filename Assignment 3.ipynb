{
 "cells": [
  {
   "cell_type": "code",
   "execution_count": 1,
   "metadata": {},
   "outputs": [
    {
     "name": "stdout",
     "output_type": "stream",
     "text": [
      "checking if 4 exists in list(using loop):\n",
      "Element exists\n",
      "Element exists\n",
      "Element exists\n",
      "Element exists\n",
      "Element exists\n",
      "Element Exists\n",
      "checking if 4 exists in list(using in): \n",
      "Element exists\n"
     ]
    }
   ],
   "source": [
    "test_list=[1,6,3,5,3,4]\n",
    "print(\"checking if 4 exists in list(using loop):\")\n",
    "for i in test_list:\n",
    "    if(i==4):\n",
    "        print(\"Element Exists\")\n",
    "        print(\"checking if 4 exists in list(using in): \")\n",
    "    if(4 in test_list):\n",
    "        print(\"Element exists\")"
   ]
  },
  {
   "cell_type": "code",
   "execution_count": 1,
   "metadata": {},
   "outputs": [
    {
     "name": "stdout",
     "output_type": "stream",
     "text": [
      "Enter first value3\n",
      "Enter second value3\n",
      "Enter operator**\n",
      "27 answer\n"
     ]
    }
   ],
   "source": [
    "val1=int(input(\"Enter first value\"))\n",
    "val2=int(input(\"Enter second value\"))\n",
    "operator=input(\"Enter operator\")\n",
    "if operator == '+':\n",
    "    val=val1+val2\n",
    "    print(val,'answer')\n",
    "elif operator == '-':\n",
    "    val=val1-val2\n",
    "    print(val,'answer')\n",
    "elif operator == '*':\n",
    "    val=val1*val2\n",
    "    print(val,'answer')\n",
    "elif operator == '/':\n",
    "    val=val1/val2\n",
    "    print(val,'answer')\n",
    "elif operator == '**':\n",
    "    val=val1**val2\n",
    "    print(val,'answer')\n",
    "else:\n",
    "    print(\"Enter the correct operator\")"
   ]
  },
  {
   "cell_type": "code",
   "execution_count": 6,
   "metadata": {},
   "outputs": [
    {
     "name": "stdout",
     "output_type": "stream",
     "text": [
      "None\n"
     ]
    }
   ],
   "source": [
    "def repeat(x):\n",
    "    size= len(x)\n",
    "    \n",
    "    repeated=[]\n",
    "    for i in range(size):\n",
    "        k=i+1\n",
    "    for j in range(k,size):\n",
    "        if x[i]==x[j] and x[i] not in repeated:\n",
    "            return repeated\n",
    "\n",
    "firstlist=[10,20,30,30,40,50,200,70,-60,60,60,-20,-20]\n",
    "print(repeat(firstlist))"
   ]
  },
  {
   "cell_type": "code",
   "execution_count": 13,
   "metadata": {
    "scrolled": false
   },
   "outputs": [
    {
     "name": "stdout",
     "output_type": "stream",
     "text": [
      "{'a': 100, 'b': 200, 'c': 300}\n"
     ]
    }
   ],
   "source": [
    "def returnsum(mydictionary):\n",
    "    \n",
    "    sum=0\n",
    "    for i in mydictionary:\n",
    "        sum=sum+mydictionary[i]\n",
    "        \n",
    "        return sum\n",
    "mydict={'a':100,'b':200,'c':300}\n",
    "print(mydict)"
   ]
  },
  {
   "cell_type": "code",
   "execution_count": 14,
   "metadata": {},
   "outputs": [
    {
     "name": "stdout",
     "output_type": "stream",
     "text": [
      "{'a': 1, 'b': 2}\n",
      "{'a': 100, 'b': 2, 'c': 3, 'd': 4}\n",
      "{'a': 100, 'b': 2, 'c': 3, 'd': 4, 'e': 5}\n"
     ]
    }
   ],
   "source": [
    "d={'a':1,'b':2}\n",
    "print(d)\n",
    "d['a']=100\n",
    "d['c']=3\n",
    "d['d']=4\n",
    "print(d)\n",
    "\n",
    "if 'c' not in d.keys():\n",
    "    d['c']=300\n",
    "if 'e' not in d.keys():\n",
    "    d['e']=5\n",
    "    print(d)"
   ]
  },
  {
   "cell_type": "code",
   "execution_count": 36,
   "metadata": {},
   "outputs": [
    {
     "name": "stdout",
     "output_type": "stream",
     "text": [
      "Enter number44\n",
      "key is not present in the dictionary\n"
     ]
    }
   ],
   "source": [
    "d={1:10,2:20,3:30,4:40,5:50,6:60}\n",
    "\n",
    "def is_key_present():\n",
    "    \n",
    "    inp=int(input(\"Enter number\")) \n",
    "    if inp == d:\n",
    "        print(\"key is pressent in the dictionary\")\n",
    "    else:\n",
    "        print(\"key is not present in the dictionary\")\n",
    "        \n",
    "is_key_present()"
   ]
  },
  {
   "cell_type": "code",
   "execution_count": null,
   "metadata": {},
   "outputs": [],
   "source": []
  }
 ],
 "metadata": {
  "kernelspec": {
   "display_name": "Python 3",
   "language": "python",
   "name": "python3"
  },
  "language_info": {
   "codemirror_mode": {
    "name": "ipython",
    "version": 3
   },
   "file_extension": ".py",
   "mimetype": "text/x-python",
   "name": "python",
   "nbconvert_exporter": "python",
   "pygments_lexer": "ipython3",
   "version": "3.7.4"
  }
 },
 "nbformat": 4,
 "nbformat_minor": 2
}
