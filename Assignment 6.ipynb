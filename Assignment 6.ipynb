{
 "cells": [
  {
   "cell_type": "markdown",
   "metadata": {},
   "source": [
    "### 1:Object Oriented Programming:"
   ]
  },
  {
   "cell_type": "markdown",
   "metadata": {},
   "source": [
    "Object Oriented Programming(OOP) is a paradigm in which\n",
    "real-world objects are each viewed as separate entities\n",
    "having their own state which is modified only by built \n",
    "in procedures,called methods.\n",
    "\n",
    "To \"model human interaction with real world phenomena\"\n",
    "and their behavior as classes and methods."
   ]
  },
  {
   "cell_type": "markdown",
   "metadata": {},
   "source": [
    "### 2:Benefits of OOP:"
   ]
  },
  {
   "cell_type": "markdown",
   "metadata": {},
   "source": [
    "1:The programming get easy and efficient.\n",
    "\n",
    "2:The class is sharable,so codes can be reused.\n",
    "\n",
    "3:The productivity of programmers increases.\n",
    "\n",
    "4:Data is safe and secure with data abstraction.\n",
    "\n",
    "5:Easy troubleshooting.\n",
    "\n",
    "6:Design benefits.\n",
    "\n",
    "7:Data redundancy.\n"
   ]
  },
  {
   "cell_type": "markdown",
   "metadata": {},
   "source": [
    "### 3:Differentiate between function and method."
   ]
  },
  {
   "cell_type": "markdown",
   "metadata": {},
   "source": [
    "#### Function:\n",
    "A function is a piece of code that is called by\n",
    "name.It can be passed data to operate on (i.e.the\n",
    "parameters)and can optionally return data (the return\n",
    "value).All data that is passed to a function is explicity\n",
    "passed.\n",
    "\n"
   ]
  },
  {
   "cell_type": "markdown",
   "metadata": {},
   "source": [
    "#### Method:\n",
    "Methods are the functions defined inside the body of a class.\n",
    "They are used to define the behaviors of an object.\n",
    "A method is a piece of code that is called by a namethat is\n",
    "associated with an object.\n"
   ]
  },
  {
   "cell_type": "markdown",
   "metadata": {},
   "source": [
    "### 4:Defined the following terms"
   ]
  },
  {
   "cell_type": "markdown",
   "metadata": {},
   "source": [
    "#### 1:Class:\n",
    "It is a template or blue print about the capability\n",
    "of what an object can do.\n",
    "\n",
    "example:the parrot is class and the car is class."
   ]
  },
  {
   "cell_type": "markdown",
   "metadata": {},
   "source": [
    "#### 2:Oject:\n",
    "Which is the combination of the attribute or it can be a\n",
    "combination with the behavior.\n",
    "\n",
    "An object (instance) is an instantiation of a class.When class\n",
    "is defined,only the description for the object is defined.Therefore,\n",
    "no memory or storage is allocated."
   ]
  },
  {
   "cell_type": "markdown",
   "metadata": {},
   "source": [
    "#### 3:Attribute:\n",
    "Attributes are the properties of the object.\n",
    "\n",
    "example: self.name = Myname.."
   ]
  },
  {
   "cell_type": "markdown",
   "metadata": {},
   "source": [
    "#### 4:Behavior:\n",
    "Behavior is the method the diffrent thing which the\n",
    "class can also have is the behavior."
   ]
  },
  {
   "cell_type": "code",
   "execution_count": 17,
   "metadata": {},
   "outputs": [
    {
     "name": "stdout",
     "output_type": "stream",
     "text": [
      "Toyota-Corolla\n",
      "First generation\n",
      "Firestone firehawk Indy 500 performance\n",
      "Super White\n",
      "81kw(110bhp)\n"
     ]
    }
   ],
   "source": [
    "class Car(): \n",
    "    def __init__(self,name,tires,):\n",
    "        self.name= name\n",
    "        self.tires=tires\n",
    "        self.model='2nd generation'\n",
    "        self.color='black sand pearl'\n",
    "        self.engine='81kw(100bhp)'\n",
    "\n",
    "    def updatemodel(self,newmodel):\n",
    "        self.model=newmodel\n",
    "        \n",
    "    \n",
    "    def updatecolor(self,newcolor):\n",
    "        self.color=newcolor\n",
    "        \n",
    "        \n",
    "    def updateengine(self,newengine):\n",
    "        self.engine=newengine\n",
    "    \n",
    "carbio= Car('Toyota-Corolla',\"Firestone firehawk Indy 500 performance\")\n",
    "\n",
    "carbio.updatemodel('First generation')\n",
    "\n",
    "carbio.updatecolor('Super White')\n",
    "\n",
    "carbio.updateengine('81kw(110bhp)')\n",
    "\n",
    "print(carbio.name)\n",
    "print(carbio.model)\n",
    "print(carbio.tires)\n",
    "print(carbio.color)\n",
    "print(carbio.engine)"
   ]
  }
 ],
 "metadata": {
  "kernelspec": {
   "display_name": "Python 3",
   "language": "python",
   "name": "python3"
  },
  "language_info": {
   "codemirror_mode": {
    "name": "ipython",
    "version": 3
   },
   "file_extension": ".py",
   "mimetype": "text/x-python",
   "name": "python",
   "nbconvert_exporter": "python",
   "pygments_lexer": "ipython3",
   "version": "3.7.4"
  }
 },
 "nbformat": 4,
 "nbformat_minor": 2
}
