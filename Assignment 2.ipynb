{
 "cells": [
  {
   "cell_type": "code",
   "execution_count": 1,
   "metadata": {},
   "outputs": [
    {
     "name": "stdout",
     "output_type": "stream",
     "text": [
      "enter your percentage%78\n",
      "A%\n"
     ]
    }
   ],
   "source": [
    "per=int(input(\"enter your percentage%\"))\n",
    "if per >= 80 and per <= 100:\n",
    "    print(\"A+%\")\n",
    "elif per >= 70 and per < 80:\n",
    "    print(\"A%\")\n",
    "elif per >= 60 and per < 70:\n",
    "    print(\"B%\")\n",
    "elif per >= 50 and per < 60:\n",
    "    print(\"C%\")\n",
    "elif per >= 40 and per < 50:\n",
    "    print(\"D%\")\n",
    "elif per >= 33 and per < 40:\n",
    "    print (\"E%\")"
   ]
  },
  {
   "cell_type": "code",
   "execution_count": 2,
   "metadata": {},
   "outputs": [
    {
     "name": "stdout",
     "output_type": "stream",
     "text": [
      "length of given list is: 5\n"
     ]
    }
   ],
   "source": [
    "list_len=[1,3,5,7,9]\n",
    "print(\"length of given list is:\",len(list_len))"
   ]
  },
  {
   "cell_type": "code",
   "execution_count": null,
   "metadata": {},
   "outputs": [
    {
     "name": "stdout",
     "output_type": "stream",
     "text": [
      "how many numbers:6\n",
      "enter number6\n",
      "sum of elements in given list is : 6\n",
      "enter number6\n",
      "sum of elements in given list is : 12\n",
      "enter number5\n",
      "sum of elements in given list is : 17\n"
     ]
    }
   ],
   "source": [
    "lst=[]\n",
    "num=int(input(\"how many numbers:\"))\n",
    "for n in range(num):\n",
    "    numbers=int(input(\"enter number\"))\n",
    "    lst.append(numbers)\n",
    "    print(\"sum of elements in given list is :\", sum(lst))"
   ]
  },
  {
   "cell_type": "code",
   "execution_count": null,
   "metadata": {},
   "outputs": [],
   "source": [
    "lst=[2,3,4,4,7,8,0,1]\n",
    "num=int(input(\"how many numbers:\"))\n",
    "for n in range(numbers):\n",
    "    numbers=int(input(\"Enter number\"))\n",
    "    lst.append(numbers)\n",
    "    \n",
    "print(\"Maximum element in the list is:\",max(lst),\"\\n\" \"Minimum element in the list is:\",min(lst))"
   ]
  },
  {
   "cell_type": "code",
   "execution_count": 5,
   "metadata": {},
   "outputs": [
    {
     "name": "stdout",
     "output_type": "stream",
     "text": [
      "Enter a number:6\n",
      "this is even number\n"
     ]
    }
   ],
   "source": [
    "number=int(input(\"Enter a number:\"));\n",
    "x=int(number/2)*2;\n",
    "if(x==number):\n",
    "    print(\"this is even number\")\n",
    "else:\n",
    "    print(\"this is odd number\")"
   ]
  },
  {
   "cell_type": "code",
   "execution_count": 15,
   "metadata": {},
   "outputs": [
    {
     "name": "stdout",
     "output_type": "stream",
     "text": [
      "[[1, 1, 2, 3, 5, 8, 13, 21, 34, 55, 89]]\n"
     ]
    }
   ],
   "source": [
    "a=[1,1,2,3,5,8,13,21,34,55,89]\n",
    "new_list=[]\n",
    "new_list.append(a)\n",
    "print(new_list)"
   ]
  },
  {
   "cell_type": "code",
   "execution_count": null,
   "metadata": {},
   "outputs": [],
   "source": []
  }
 ],
 "metadata": {
  "kernelspec": {
   "display_name": "Python 3",
   "language": "python",
   "name": "python3"
  },
  "language_info": {
   "codemirror_mode": {
    "name": "ipython",
    "version": 3
   },
   "file_extension": ".py",
   "mimetype": "text/x-python",
   "name": "python",
   "nbconvert_exporter": "python",
   "pygments_lexer": "ipython3",
   "version": "3.7.4"
  }
 },
 "nbformat": 4,
 "nbformat_minor": 2
}
